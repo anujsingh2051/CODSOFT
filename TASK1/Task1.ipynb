{
 "cells": [
  {
   "cell_type": "markdown",
   "metadata": {},
   "source": [
    "# TASK 1\n",
    "    MOVIE GENRE CLASSIFICATION\n",
    "    \n",
    "    Create a machine learning model that can predict the  genre of a movie based on its plot summary or other textual information. You can use techniques like TF-IDF or word embeddings with classifiers such as Naive Bayes, Logistic Regression, or Support Vector Machines."
   ]
  },
  {
   "cell_type": "code",
   "execution_count": null,
   "metadata": {},
   "outputs": [],
   "source": [
    "#IMPORTING LIBRARIES"
   ]
  },
  {
   "cell_type": "code",
   "execution_count": 1,
   "metadata": {},
   "outputs": [],
   "source": [
    "import pandas as pd\n",
    "import numpy as np\n",
    "import matplotlib.pyplot as plt\n",
    "import seaborn as sns"
   ]
  },
  {
   "cell_type": "code",
   "execution_count": null,
   "metadata": {},
   "outputs": [],
   "source": [
    "#IMPORTING LIBRARIES FOR MODEL"
   ]
  },
  {
   "cell_type": "code",
   "execution_count": 2,
   "metadata": {},
   "outputs": [],
   "source": [
    "from sklearn.feature_extraction.text import TfidfVectorizer\n",
    "from sklearn.preprocessing import LabelEncoder\n",
    "from sklearn.svm import LinearSVC\n",
    "from sklearn.model_selection import train_test_split\n",
    "from sklearn.metrics import accuracy_score, classification_report"
   ]
  },
  {
   "cell_type": "code",
   "execution_count": 24,
   "metadata": {},
   "outputs": [
    {
     "name": "stderr",
     "output_type": "stream",
     "text": [
      "F:\\New folder\\lib\\site-packages\\ipykernel_launcher.py:1: ParserWarning: Falling back to the 'python' engine because the 'c' engine does not support regex separators (separators > 1 char and different from '\\s+' are interpreted as regex); you can avoid this warning by specifying engine='python'.\n",
      "  \"\"\"Entry point for launching an IPython kernel.\n"
     ]
    }
   ],
   "source": [
    "train_data = pd.read_csv(\"train_data.txt\",sep=':::', names=['ID', 'TITLE', 'GENERE', 'DESCRIPTION'])"
   ]
  },
  {
   "cell_type": "code",
   "execution_count": 25,
   "metadata": {},
   "outputs": [
    {
     "data": {
      "text/html": [
       "<div>\n",
       "<style scoped>\n",
       "    .dataframe tbody tr th:only-of-type {\n",
       "        vertical-align: middle;\n",
       "    }\n",
       "\n",
       "    .dataframe tbody tr th {\n",
       "        vertical-align: top;\n",
       "    }\n",
       "\n",
       "    .dataframe thead th {\n",
       "        text-align: right;\n",
       "    }\n",
       "</style>\n",
       "<table border=\"1\" class=\"dataframe\">\n",
       "  <thead>\n",
       "    <tr style=\"text-align: right;\">\n",
       "      <th></th>\n",
       "      <th>ID</th>\n",
       "      <th>TITLE</th>\n",
       "      <th>GENERE</th>\n",
       "      <th>DESCRIPTION</th>\n",
       "    </tr>\n",
       "  </thead>\n",
       "  <tbody>\n",
       "    <tr>\n",
       "      <td>0</td>\n",
       "      <td>1</td>\n",
       "      <td>Oscar et la dame rose (2009)</td>\n",
       "      <td>drama</td>\n",
       "      <td>Listening in to a conversation between his do...</td>\n",
       "    </tr>\n",
       "    <tr>\n",
       "      <td>1</td>\n",
       "      <td>2</td>\n",
       "      <td>Cupid (1997)</td>\n",
       "      <td>thriller</td>\n",
       "      <td>A brother and sister with a past incestuous r...</td>\n",
       "    </tr>\n",
       "    <tr>\n",
       "      <td>2</td>\n",
       "      <td>3</td>\n",
       "      <td>Young, Wild and Wonderful (1980)</td>\n",
       "      <td>adult</td>\n",
       "      <td>As the bus empties the students for their fie...</td>\n",
       "    </tr>\n",
       "    <tr>\n",
       "      <td>3</td>\n",
       "      <td>4</td>\n",
       "      <td>The Secret Sin (1915)</td>\n",
       "      <td>drama</td>\n",
       "      <td>To help their unemployed father make ends mee...</td>\n",
       "    </tr>\n",
       "    <tr>\n",
       "      <td>4</td>\n",
       "      <td>5</td>\n",
       "      <td>The Unrecovered (2007)</td>\n",
       "      <td>drama</td>\n",
       "      <td>The film's title refers not only to the un-re...</td>\n",
       "    </tr>\n",
       "    <tr>\n",
       "      <td>...</td>\n",
       "      <td>...</td>\n",
       "      <td>...</td>\n",
       "      <td>...</td>\n",
       "      <td>...</td>\n",
       "    </tr>\n",
       "    <tr>\n",
       "      <td>54209</td>\n",
       "      <td>54210</td>\n",
       "      <td>\"Bonino\" (1953)</td>\n",
       "      <td>comedy</td>\n",
       "      <td>This short-lived NBC live sitcom centered on ...</td>\n",
       "    </tr>\n",
       "    <tr>\n",
       "      <td>54210</td>\n",
       "      <td>54211</td>\n",
       "      <td>Dead Girls Don't Cry (????)</td>\n",
       "      <td>horror</td>\n",
       "      <td>The NEXT Generation of EXPLOITATION. The sist...</td>\n",
       "    </tr>\n",
       "    <tr>\n",
       "      <td>54211</td>\n",
       "      <td>54212</td>\n",
       "      <td>Ronald Goedemondt: Ze bestaan echt (2008)</td>\n",
       "      <td>documentary</td>\n",
       "      <td>Ze bestaan echt, is a stand-up comedy about g...</td>\n",
       "    </tr>\n",
       "    <tr>\n",
       "      <td>54212</td>\n",
       "      <td>54213</td>\n",
       "      <td>Make Your Own Bed (1944)</td>\n",
       "      <td>comedy</td>\n",
       "      <td>Walter and Vivian live in the country and hav...</td>\n",
       "    </tr>\n",
       "    <tr>\n",
       "      <td>54213</td>\n",
       "      <td>54214</td>\n",
       "      <td>Nature's Fury: Storm of the Century (2006)</td>\n",
       "      <td>history</td>\n",
       "      <td>On Labor Day Weekend, 1935, the most intense ...</td>\n",
       "    </tr>\n",
       "  </tbody>\n",
       "</table>\n",
       "<p>54214 rows × 4 columns</p>\n",
       "</div>"
      ],
      "text/plain": [
       "          ID                                         TITLE         GENERE  \\\n",
       "0          1                 Oscar et la dame rose (2009)          drama    \n",
       "1          2                                 Cupid (1997)       thriller    \n",
       "2          3             Young, Wild and Wonderful (1980)          adult    \n",
       "3          4                        The Secret Sin (1915)          drama    \n",
       "4          5                       The Unrecovered (2007)          drama    \n",
       "...      ...                                           ...            ...   \n",
       "54209  54210                              \"Bonino\" (1953)         comedy    \n",
       "54210  54211                  Dead Girls Don't Cry (????)         horror    \n",
       "54211  54212    Ronald Goedemondt: Ze bestaan echt (2008)    documentary    \n",
       "54212  54213                     Make Your Own Bed (1944)         comedy    \n",
       "54213  54214   Nature's Fury: Storm of the Century (2006)        history    \n",
       "\n",
       "                                             DESCRIPTION  \n",
       "0       Listening in to a conversation between his do...  \n",
       "1       A brother and sister with a past incestuous r...  \n",
       "2       As the bus empties the students for their fie...  \n",
       "3       To help their unemployed father make ends mee...  \n",
       "4       The film's title refers not only to the un-re...  \n",
       "...                                                  ...  \n",
       "54209   This short-lived NBC live sitcom centered on ...  \n",
       "54210   The NEXT Generation of EXPLOITATION. The sist...  \n",
       "54211   Ze bestaan echt, is a stand-up comedy about g...  \n",
       "54212   Walter and Vivian live in the country and hav...  \n",
       "54213   On Labor Day Weekend, 1935, the most intense ...  \n",
       "\n",
       "[54214 rows x 4 columns]"
      ]
     },
     "execution_count": 25,
     "metadata": {},
     "output_type": "execute_result"
    }
   ],
   "source": [
    "train_data"
   ]
  },
  {
   "cell_type": "code",
   "execution_count": 26,
   "metadata": {},
   "outputs": [
    {
     "name": "stderr",
     "output_type": "stream",
     "text": [
      "F:\\New folder\\lib\\site-packages\\ipykernel_launcher.py:1: ParserWarning: Falling back to the 'python' engine because the 'c' engine does not support regex separators (separators > 1 char and different from '\\s+' are interpreted as regex); you can avoid this warning by specifying engine='python'.\n",
      "  \"\"\"Entry point for launching an IPython kernel.\n"
     ]
    }
   ],
   "source": [
    "test_datas=pd.read_csv(\"test_data.txt\",sep=':::',names=[\"ID\",\"TITLE\",\"GENERE\",\"DESCRIPTION\"])"
   ]
  },
  {
   "cell_type": "code",
   "execution_count": 27,
   "metadata": {},
   "outputs": [
    {
     "data": {
      "text/html": [
       "<div>\n",
       "<style scoped>\n",
       "    .dataframe tbody tr th:only-of-type {\n",
       "        vertical-align: middle;\n",
       "    }\n",
       "\n",
       "    .dataframe tbody tr th {\n",
       "        vertical-align: top;\n",
       "    }\n",
       "\n",
       "    .dataframe thead th {\n",
       "        text-align: right;\n",
       "    }\n",
       "</style>\n",
       "<table border=\"1\" class=\"dataframe\">\n",
       "  <thead>\n",
       "    <tr style=\"text-align: right;\">\n",
       "      <th></th>\n",
       "      <th>ID</th>\n",
       "      <th>TITLE</th>\n",
       "      <th>GENERE</th>\n",
       "      <th>DESCRIPTION</th>\n",
       "    </tr>\n",
       "  </thead>\n",
       "  <tbody>\n",
       "    <tr>\n",
       "      <td>54190</td>\n",
       "      <td>54191</td>\n",
       "      <td>\"House Invaders\" (1998)</td>\n",
       "      <td>House Invaders features a different home each...</td>\n",
       "      <td>NaN</td>\n",
       "    </tr>\n",
       "    <tr>\n",
       "      <td>54191</td>\n",
       "      <td>54192</td>\n",
       "      <td>Eduardo Ducay. El cine que siempre estuvo ahÃ...</td>\n",
       "      <td>Visual documentary about the figure of produc...</td>\n",
       "      <td>NaN</td>\n",
       "    </tr>\n",
       "    <tr>\n",
       "      <td>54192</td>\n",
       "      <td>54193</td>\n",
       "      <td>Dinosaurs Decoded (2009)</td>\n",
       "      <td>National Geographic reviews Jack Horner's res...</td>\n",
       "      <td>NaN</td>\n",
       "    </tr>\n",
       "    <tr>\n",
       "      <td>54193</td>\n",
       "      <td>54194</td>\n",
       "      <td>The World of Art Presents: Drawing for Anyone...</td>\n",
       "      <td>Jump right in to drawing animals along with C...</td>\n",
       "      <td>NaN</td>\n",
       "    </tr>\n",
       "    <tr>\n",
       "      <td>54194</td>\n",
       "      <td>54195</td>\n",
       "      <td>Slender Existence (2000)</td>\n",
       "      <td>Slender Existence is the first-ever personal ...</td>\n",
       "      <td>NaN</td>\n",
       "    </tr>\n",
       "    <tr>\n",
       "      <td>54195</td>\n",
       "      <td>54196</td>\n",
       "      <td>\"Tales of Light &amp; Dark\" (2013)</td>\n",
       "      <td>Covering multiple genres, Tales of Light &amp; Da...</td>\n",
       "      <td>NaN</td>\n",
       "    </tr>\n",
       "    <tr>\n",
       "      <td>54196</td>\n",
       "      <td>54197</td>\n",
       "      <td>Der letzte Mohikaner (1965)</td>\n",
       "      <td>As Alice and Cora Munro attempt to find their...</td>\n",
       "      <td>NaN</td>\n",
       "    </tr>\n",
       "    <tr>\n",
       "      <td>54197</td>\n",
       "      <td>54198</td>\n",
       "      <td>Oliver Twink (2007)</td>\n",
       "      <td>A movie 169 years in the making. Oliver Twist...</td>\n",
       "      <td>NaN</td>\n",
       "    </tr>\n",
       "    <tr>\n",
       "      <td>54198</td>\n",
       "      <td>54199</td>\n",
       "      <td>Slipstream (1973)</td>\n",
       "      <td>Popular, but mysterious rock D.J Mike Mallard...</td>\n",
       "      <td>NaN</td>\n",
       "    </tr>\n",
       "    <tr>\n",
       "      <td>54199</td>\n",
       "      <td>54200</td>\n",
       "      <td>Curitiba Zero Grau (2010)</td>\n",
       "      <td>Curitiba is a city in movement, with rhythms ...</td>\n",
       "      <td>NaN</td>\n",
       "    </tr>\n",
       "  </tbody>\n",
       "</table>\n",
       "</div>"
      ],
      "text/plain": [
       "          ID                                              TITLE  \\\n",
       "54190  54191                           \"House Invaders\" (1998)    \n",
       "54191  54192   Eduardo Ducay. El cine que siempre estuvo ahÃ...   \n",
       "54192  54193                          Dinosaurs Decoded (2009)    \n",
       "54193  54194   The World of Art Presents: Drawing for Anyone...   \n",
       "54194  54195                          Slender Existence (2000)    \n",
       "54195  54196                    \"Tales of Light & Dark\" (2013)    \n",
       "54196  54197                       Der letzte Mohikaner (1965)    \n",
       "54197  54198                               Oliver Twink (2007)    \n",
       "54198  54199                                 Slipstream (1973)    \n",
       "54199  54200                         Curitiba Zero Grau (2010)    \n",
       "\n",
       "                                                  GENERE  DESCRIPTION  \n",
       "54190   House Invaders features a different home each...          NaN  \n",
       "54191   Visual documentary about the figure of produc...          NaN  \n",
       "54192   National Geographic reviews Jack Horner's res...          NaN  \n",
       "54193   Jump right in to drawing animals along with C...          NaN  \n",
       "54194   Slender Existence is the first-ever personal ...          NaN  \n",
       "54195   Covering multiple genres, Tales of Light & Da...          NaN  \n",
       "54196   As Alice and Cora Munro attempt to find their...          NaN  \n",
       "54197   A movie 169 years in the making. Oliver Twist...          NaN  \n",
       "54198   Popular, but mysterious rock D.J Mike Mallard...          NaN  \n",
       "54199   Curitiba is a city in movement, with rhythms ...          NaN  "
      ]
     },
     "execution_count": 27,
     "metadata": {},
     "output_type": "execute_result"
    }
   ],
   "source": [
    "test_datas.tail(10)"
   ]
  },
  {
   "cell_type": "code",
   "execution_count": 7,
   "metadata": {},
   "outputs": [
    {
     "name": "stderr",
     "output_type": "stream",
     "text": [
      "F:\\New folder\\lib\\site-packages\\ipykernel_launcher.py:1: ParserWarning: Falling back to the 'python' engine because the 'c' engine does not support regex separators (separators > 1 char and different from '\\s+' are interpreted as regex); you can avoid this warning by specifying engine='python'.\n",
      "  \"\"\"Entry point for launching an IPython kernel.\n"
     ]
    }
   ],
   "source": [
    "test_solution_dataset=pd.read_csv(\"test_data_solution.txt\",sep=':::',names=[\"ID\",\"TITLE\",\"GENERE\",\"DESCRIPTION\"])\n"
   ]
  },
  {
   "cell_type": "code",
   "execution_count": 8,
   "metadata": {},
   "outputs": [
    {
     "data": {
      "text/html": [
       "<div>\n",
       "<style scoped>\n",
       "    .dataframe tbody tr th:only-of-type {\n",
       "        vertical-align: middle;\n",
       "    }\n",
       "\n",
       "    .dataframe tbody tr th {\n",
       "        vertical-align: top;\n",
       "    }\n",
       "\n",
       "    .dataframe thead th {\n",
       "        text-align: right;\n",
       "    }\n",
       "</style>\n",
       "<table border=\"1\" class=\"dataframe\">\n",
       "  <thead>\n",
       "    <tr style=\"text-align: right;\">\n",
       "      <th></th>\n",
       "      <th>ID</th>\n",
       "      <th>TITLE</th>\n",
       "      <th>GENERE</th>\n",
       "      <th>DESCRIPTION</th>\n",
       "    </tr>\n",
       "  </thead>\n",
       "  <tbody>\n",
       "    <tr>\n",
       "      <td>0</td>\n",
       "      <td>1</td>\n",
       "      <td>Edgar's Lunch (1998)</td>\n",
       "      <td>thriller</td>\n",
       "      <td>L.R. Brane loves his life - his car, his apar...</td>\n",
       "    </tr>\n",
       "    <tr>\n",
       "      <td>1</td>\n",
       "      <td>2</td>\n",
       "      <td>La guerra de papÃ¡ (1977)</td>\n",
       "      <td>comedy</td>\n",
       "      <td>Spain, March 1964: Quico is a very naughty ch...</td>\n",
       "    </tr>\n",
       "    <tr>\n",
       "      <td>2</td>\n",
       "      <td>3</td>\n",
       "      <td>Off the Beaten Track (2010)</td>\n",
       "      <td>documentary</td>\n",
       "      <td>One year in the life of Albin and his family ...</td>\n",
       "    </tr>\n",
       "    <tr>\n",
       "      <td>3</td>\n",
       "      <td>4</td>\n",
       "      <td>Meu Amigo Hindu (2015)</td>\n",
       "      <td>drama</td>\n",
       "      <td>His father has died, he hasn't spoken with hi...</td>\n",
       "    </tr>\n",
       "    <tr>\n",
       "      <td>4</td>\n",
       "      <td>5</td>\n",
       "      <td>Er nu zhai (1955)</td>\n",
       "      <td>drama</td>\n",
       "      <td>Before he was known internationally as a mart...</td>\n",
       "    </tr>\n",
       "  </tbody>\n",
       "</table>\n",
       "</div>"
      ],
      "text/plain": [
       "   ID                          TITLE         GENERE  \\\n",
       "0   1          Edgar's Lunch (1998)       thriller    \n",
       "1   2     La guerra de papÃ¡ (1977)         comedy    \n",
       "2   3   Off the Beaten Track (2010)    documentary    \n",
       "3   4        Meu Amigo Hindu (2015)          drama    \n",
       "4   5             Er nu zhai (1955)          drama    \n",
       "\n",
       "                                         DESCRIPTION  \n",
       "0   L.R. Brane loves his life - his car, his apar...  \n",
       "1   Spain, March 1964: Quico is a very naughty ch...  \n",
       "2   One year in the life of Albin and his family ...  \n",
       "3   His father has died, he hasn't spoken with hi...  \n",
       "4   Before he was known internationally as a mart...  "
      ]
     },
     "execution_count": 8,
     "metadata": {},
     "output_type": "execute_result"
    }
   ],
   "source": [
    "test_solution_dataset.head()"
   ]
  },
  {
   "cell_type": "markdown",
   "metadata": {},
   "source": [
    "# DATA VISUALIZATION"
   ]
  },
  {
   "cell_type": "code",
   "execution_count": 31,
   "metadata": {},
   "outputs": [
    {
     "data": {
      "text/plain": [
       "<matplotlib.axes._subplots.AxesSubplot at 0x1eae68fb788>"
      ]
     },
     "execution_count": 31,
     "metadata": {},
     "output_type": "execute_result"
    },
    {
     "data": {
      "image/png": "[encoded data removed]",
      "text/plain": [
       "<Figure size 1584x936 with 1 Axes>"
      ]
     },
     "metadata": {
      "needs_background": "light"
     },
     "output_type": "display_data"
    }
   ],
   "source": [
    "plt.figure(figsize=(22,13))\n",
    "sns.countplot(x=training_dataset['GENERE'],order=training_dataset['GENERE'].value_counts().index,color=\"red\")"
   ]
  },
  {
   "cell_type": "markdown",
   "metadata": {},
   "source": [
    "# Bar Representation of Genre vs Description length"
   ]
  },
  {
   "cell_type": "code",
   "execution_count": 62,
   "metadata": {},
   "outputs": [
    {
     "data": {
      "image/png": "[encoded data removed]",
      "text/plain": [
       "<Figure size 1080x720 with 1 Axes>"
      ]
     },
     "metadata": {
      "needs_background": "light"
     },
     "output_type": "display_data"
    }
   ],
   "source": [
    "train_data['DESCRIPTION_length'] = train_data['DESCRIPTION'].apply(len)\n",
    "plt.figure(figsize=(15, 10))\n",
    "sns.barplot(x='GENERE', y='DESCRIPTION_length', data=train_data)\n",
    "plt.title('Description Length by Genere')\n",
    "plt.xticks(rotation=45)\n",
    "plt.xlabel('GENERE')\n",
    "plt.ylabel('Description Length')\n",
    "plt.show()"
   ]
  },
  {
   "cell_type": "markdown",
   "metadata": {},
   "source": [
    "# Top Genre which mostly people watched"
   ]
  },
  {
   "cell_type": "code",
   "execution_count": 60,
   "metadata": {},
   "outputs": [
    {
     "data": {
      "image/png": "[encoded data removed]",
      "text/plain": [
       "<Figure size 1440x720 with 1 Axes>"
      ]
     },
     "metadata": {
      "needs_background": "light"
     },
     "output_type": "display_data"
    }
   ],
   "source": [
    "top_generes = train_data['GENERE'].value_counts().head(10)\n",
    "\n",
    "plt.figure(figsize=(20, 10))\n",
    "top_genres.plot(kind='barh', color='yellow')\n",
    "plt.title('Top 10 Most Frequent Generes')\n",
    "plt.xlabel('Number of Movies')\n",
    "plt.ylabel('Genere')\n",
    "plt.gca().invert_yaxis()  \n",
    "plt.show()"
   ]
  },
  {
   "cell_type": "markdown",
   "metadata": {},
   "source": [
    "# TRAING AND TESTING OF DATA"
   ]
  },
  {
   "cell_type": "code",
   "execution_count": null,
   "metadata": {},
   "outputs": [],
   "source": []
  },
  {
   "cell_type": "code",
   "execution_count": 34,
   "metadata": {},
   "outputs": [
    {
     "name": "stdout",
     "output_type": "stream",
     "text": [
      "<class 'pandas.core.frame.DataFrame'>\n",
      "RangeIndex: 54214 entries, 0 to 54213\n",
      "Data columns (total 5 columns):\n",
      "ID                    54214 non-null int64\n",
      "TITLE                 54214 non-null object\n",
      "GENERE                54214 non-null object\n",
      "DESCRIPTION           54214 non-null object\n",
      "DESCRIPTION_length    54214 non-null int64\n",
      "dtypes: int64(2), object(3)\n",
      "memory usage: 2.1+ MB\n"
     ]
    }
   ],
   "source": [
    "train_data.info()"
   ]
  },
  {
   "cell_type": "code",
   "execution_count": 35,
   "metadata": {},
   "outputs": [
    {
     "data": {
      "text/html": [
       "<div>\n",
       "<style scoped>\n",
       "    .dataframe tbody tr th:only-of-type {\n",
       "        vertical-align: middle;\n",
       "    }\n",
       "\n",
       "    .dataframe tbody tr th {\n",
       "        vertical-align: top;\n",
       "    }\n",
       "\n",
       "    .dataframe thead th {\n",
       "        text-align: right;\n",
       "    }\n",
       "</style>\n",
       "<table border=\"1\" class=\"dataframe\">\n",
       "  <thead>\n",
       "    <tr style=\"text-align: right;\">\n",
       "      <th></th>\n",
       "      <th>ID</th>\n",
       "      <th>DESCRIPTION_length</th>\n",
       "    </tr>\n",
       "  </thead>\n",
       "  <tbody>\n",
       "    <tr>\n",
       "      <td>count</td>\n",
       "      <td>54214.000000</td>\n",
       "      <td>54214.000000</td>\n",
       "    </tr>\n",
       "    <tr>\n",
       "      <td>mean</td>\n",
       "      <td>27107.500000</td>\n",
       "      <td>600.651123</td>\n",
       "    </tr>\n",
       "    <tr>\n",
       "      <td>std</td>\n",
       "      <td>15650.378084</td>\n",
       "      <td>446.255725</td>\n",
       "    </tr>\n",
       "    <tr>\n",
       "      <td>min</td>\n",
       "      <td>1.000000</td>\n",
       "      <td>42.000000</td>\n",
       "    </tr>\n",
       "    <tr>\n",
       "      <td>25%</td>\n",
       "      <td>13554.250000</td>\n",
       "      <td>325.000000</td>\n",
       "    </tr>\n",
       "    <tr>\n",
       "      <td>50%</td>\n",
       "      <td>27107.500000</td>\n",
       "      <td>464.000000</td>\n",
       "    </tr>\n",
       "    <tr>\n",
       "      <td>75%</td>\n",
       "      <td>40660.750000</td>\n",
       "      <td>713.000000</td>\n",
       "    </tr>\n",
       "    <tr>\n",
       "      <td>max</td>\n",
       "      <td>54214.000000</td>\n",
       "      <td>10504.000000</td>\n",
       "    </tr>\n",
       "  </tbody>\n",
       "</table>\n",
       "</div>"
      ],
      "text/plain": [
       "                 ID  DESCRIPTION_length\n",
       "count  54214.000000        54214.000000\n",
       "mean   27107.500000          600.651123\n",
       "std    15650.378084          446.255725\n",
       "min        1.000000           42.000000\n",
       "25%    13554.250000          325.000000\n",
       "50%    27107.500000          464.000000\n",
       "75%    40660.750000          713.000000\n",
       "max    54214.000000        10504.000000"
      ]
     },
     "execution_count": 35,
     "metadata": {},
     "output_type": "execute_result"
    }
   ],
   "source": [
    "train_data.describe()"
   ]
  },
  {
   "cell_type": "code",
   "execution_count": 39,
   "metadata": {},
   "outputs": [],
   "source": [
    "train_data['DESCRIPTION'].fillna(\"\", inplace=True)\n",
    "test_datas['DESCRIPTION'].fillna(\"\", inplace=True)"
   ]
  },
  {
   "cell_type": "code",
   "execution_count": 42,
   "metadata": {},
   "outputs": [],
   "source": [
    "t_v = TfidfVectorizer(stop_words='english', max_features=100000)\n",
    "X_train_data = t_v.fit_transform(train_data['DESCRIPTION'])\n",
    "X_test_data = t_v.transform(test_datas['DESCRIPTION'])\n",
    "label_encoder = LabelEncoder()\n",
    "Y_train_data = label_encoder.fit_transform(train_data['GENERE'])\n",
    "Y_test_data = label_encoder.transform(test_solution_dataset['GENERE'])"
   ]
  },
  {
   "cell_type": "code",
   "execution_count": 45,
   "metadata": {},
   "outputs": [
    {
     "name": "stdout",
     "output_type": "stream",
     "text": [
      "Validation Accuracy: 0.5836945494789265\n",
      "Validation Classification Report:\n",
      "               precision    recall  f1-score   support\n",
      "\n",
      "           0       0.45      0.32      0.37       263\n",
      "           1       0.73      0.42      0.53       112\n",
      "           2       0.45      0.21      0.28       139\n",
      "           3       0.41      0.13      0.20       104\n",
      "           4       0.00      0.00      0.00        61\n",
      "           5       0.53      0.59      0.56      1443\n",
      "           6       0.39      0.07      0.11       107\n",
      "           7       0.69      0.82      0.75      2659\n",
      "           8       0.56      0.72      0.63      2697\n",
      "           9       0.34      0.17      0.22       150\n",
      "          10       0.08      0.01      0.02        74\n",
      "          11       0.82      0.68      0.74        40\n",
      "          12       0.00      0.00      0.00        45\n",
      "          13       0.66      0.67      0.66       431\n",
      "          14       0.62      0.57      0.59       144\n",
      "          15       0.25      0.04      0.07        50\n",
      "          16       0.43      0.05      0.10        56\n",
      "          17       0.30      0.09      0.14        34\n",
      "          18       0.51      0.26      0.34       192\n",
      "          19       0.36      0.06      0.10       151\n",
      "          20       0.51      0.29      0.37       143\n",
      "          21       0.43      0.36      0.39      1045\n",
      "          22       0.61      0.42      0.50        93\n",
      "          23       0.66      0.26      0.37        81\n",
      "          24       0.29      0.16      0.20       309\n",
      "          25       0.50      0.05      0.09        20\n",
      "          26       0.85      0.83      0.84       200\n",
      "\n",
      "    accuracy                           0.58     10843\n",
      "   macro avg       0.46      0.31      0.34     10843\n",
      "weighted avg       0.56      0.58      0.56     10843\n",
      "\n"
     ]
    }
   ],
   "source": [
    "X_train_sub, X_val, y_train_sub, y_val = train_test_split(X_train_data, Y_train_data, test_size=0.2, random_state=42)\n",
    "\n",
    "clf = LinearSVC()\n",
    "clf.fit(X_train_sub, y_train_sub)\n",
    "\n",
    "y_val_pred = clf.predict(X_val)\n",
    "print(\"Validation Accuracy:\", accuracy_score(y_val, y_val_pred))\n",
    "print(\"Validation Classification Report:\\n\", classification_report(y_val, y_val_pred))"
   ]
  },
  {
   "cell_type": "code",
   "execution_count": 49,
   "metadata": {},
   "outputs": [
    {
     "name": "stdout",
     "output_type": "stream",
     "text": [
      "Test Accuracy: 0.09357933579335793\n",
      "Test Classification Report:\n",
      "               precision    recall  f1-score   support\n",
      "\n",
      "           0       0.00      0.00      0.00      1314\n",
      "           1       0.00      0.00      0.00       590\n",
      "           2       0.00      0.00      0.00       775\n",
      "           3       0.00      0.00      0.00       498\n",
      "           4       0.00      0.00      0.00       264\n",
      "           5       0.00      0.00      0.00      7446\n",
      "           6       0.00      0.00      0.00       505\n",
      "           7       0.00      0.00      0.00     13096\n",
      "           8       0.00      0.00      0.00     13612\n",
      "           9       0.00      0.00      0.00       783\n",
      "          10       0.00      0.00      0.00       322\n",
      "          11       0.00      0.00      0.00       193\n",
      "          12       0.00      0.00      0.00       243\n",
      "          13       0.00      0.00      0.00      2204\n",
      "          14       0.00      0.00      0.00       731\n",
      "          15       0.00      0.00      0.00       276\n",
      "          16       0.00      0.00      0.00       318\n",
      "          17       0.00      0.00      0.00       181\n",
      "          18       0.00      0.00      0.00       883\n",
      "          19       0.00      0.00      0.00       672\n",
      "          20       0.00      0.00      0.00       646\n",
      "          21       0.09      1.00      0.17      5072\n",
      "          22       0.00      0.00      0.00       431\n",
      "          23       0.00      0.00      0.00       391\n",
      "          24       0.00      0.00      0.00      1590\n",
      "          25       0.00      0.00      0.00       132\n",
      "          26       0.00      0.00      0.00      1032\n",
      "\n",
      "    accuracy                           0.09     54200\n",
      "   macro avg       0.00      0.04      0.01     54200\n",
      "weighted avg       0.01      0.09      0.02     54200\n",
      "\n"
     ]
    },
    {
     "name": "stderr",
     "output_type": "stream",
     "text": [
      "F:\\New folder\\lib\\site-packages\\sklearn\\metrics\\classification.py:1437: UndefinedMetricWarning: Precision and F-score are ill-defined and being set to 0.0 in labels with no predicted samples.\n",
      "  'precision', 'predicted', average, warn_for)\n"
     ]
    }
   ],
   "source": [
    "y_pred = clf.predict(X_test_data)\n",
    "print(\"Test Accuracy:\", accuracy_score(Y_test_data, y_pred))\n",
    "print(\"Test Classification Report:\\n\", classification_report(Y_test_data, y_pred))"
   ]
  },
  {
   "cell_type": "code",
   "execution_count": 50,
   "metadata": {},
   "outputs": [
    {
     "data": {
      "text/plain": [
       "MultinomialNB(alpha=1.0, class_prior=None, fit_prior=True)"
      ]
     },
     "execution_count": 50,
     "metadata": {},
     "output_type": "execute_result"
    }
   ],
   "source": [
    "from sklearn.naive_bayes import MultinomialNB\n",
    "Mnb_classifier = MultinomialNB()\n",
    "Mnb_classifier.fit(X_train_data, Y_train_data)"
   ]
  },
  {
   "cell_type": "code",
   "execution_count": 51,
   "metadata": {},
   "outputs": [
    {
     "data": {
      "text/plain": [
       "array([8, 8, 8, ..., 8, 8, 8])"
      ]
     },
     "execution_count": 51,
     "metadata": {},
     "output_type": "execute_result"
    }
   ],
   "source": [
    "Mnb_classifier.predict(X_test_data)"
   ]
  },
  {
   "cell_type": "code",
   "execution_count": 52,
   "metadata": {},
   "outputs": [
    {
     "name": "stderr",
     "output_type": "stream",
     "text": [
      "F:\\New folder\\lib\\site-packages\\sklearn\\linear_model\\logistic.py:432: FutureWarning: Default solver will be changed to 'lbfgs' in 0.22. Specify a solver to silence this warning.\n",
      "  FutureWarning)\n",
      "F:\\New folder\\lib\\site-packages\\sklearn\\linear_model\\logistic.py:469: FutureWarning: Default multi_class will be changed to 'auto' in 0.22. Specify the multi_class option to silence this warning.\n",
      "  \"this warning.\", FutureWarning)\n"
     ]
    },
    {
     "data": {
      "text/plain": [
       "LogisticRegression(C=1.0, class_weight=None, dual=False, fit_intercept=True,\n",
       "                   intercept_scaling=1, l1_ratio=None, max_iter=500,\n",
       "                   multi_class='warn', n_jobs=None, penalty='l2',\n",
       "                   random_state=None, solver='warn', tol=0.0001, verbose=0,\n",
       "                   warm_start=False)"
      ]
     },
     "execution_count": 52,
     "metadata": {},
     "output_type": "execute_result"
    }
   ],
   "source": [
    "from sklearn.linear_model import LogisticRegression\n",
    "lr_classifier = LogisticRegression(max_iter=500)\n",
    "lr_classifier.fit(X_train_data, Y_train_data)"
   ]
  },
  {
   "cell_type": "code",
   "execution_count": 53,
   "metadata": {},
   "outputs": [
    {
     "data": {
      "text/plain": [
       "array([8, 8, 8, ..., 8, 8, 8])"
      ]
     },
     "execution_count": 53,
     "metadata": {},
     "output_type": "execute_result"
    }
   ],
   "source": [
    "lr_classifier.predict(X_test_data)"
   ]
  },
  {
   "cell_type": "code",
   "execution_count": 54,
   "metadata": {},
   "outputs": [
    {
     "name": "stdout",
     "output_type": "stream",
     "text": [
      " action \n",
      " short \n"
     ]
    }
   ],
   "source": [
    "def predict_movie(description):\n",
    "    t_v1 = t_v.transform([description])\n",
    "    pred_label = clf.predict(t_v1)\n",
    "    return label_encoder.inverse_transform(pred_label)[0]\n",
    "\n",
    "sample_descr_for_movie = \"POLICE\"\n",
    "print(predict_movie(sample_descr_for_movie))\n",
    "\n",
    "sample_descr_for_movie1 = \"WATER\"\n",
    "print(predict_movie(sample_descr_for_movie1))"
   ]
  },
  {
   "cell_type": "code",
   "execution_count": null,
   "metadata": {},
   "outputs": [],
   "source": []
  }
 ],
 "metadata": {
  "kernelspec": {
   "display_name": "Python 3",
   "language": "python",
   "name": "python3"
  },
  "language_info": {
   "codemirror_mode": {
    "name": "ipython",
    "version": 3
   },
   "file_extension": ".py",
   "mimetype": "text/x-python",
   "name": "python",
   "nbconvert_exporter": "python",
   "pygments_lexer": "ipython3",
   "version": "3.7.4"
  }
 },
 "nbformat": 4,
 "nbformat_minor": 2
}
